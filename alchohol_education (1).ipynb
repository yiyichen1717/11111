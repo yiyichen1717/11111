{
 "cells": [
  {
   "cell_type": "code",
   "execution_count": 1,
   "metadata": {},
   "outputs": [
    {
     "name": "stderr",
     "output_type": "stream",
     "text": [
      "Using TensorFlow backend.\n"
     ]
    }
   ],
   "source": [
    "import pandas as pd\n",
    "import os\n",
    "\n",
    "import numpy as np\n",
    "from pandas import DataFrame\n",
    "import matplotlib.pyplot as plt\n",
    "import sys\n",
    "import seaborn as sns\n",
    "from scipy import stats\n",
    "import xport\n",
    "\n",
    "from sklearn.linear_model import Lasso\n",
    "from sklearn.pipeline import Pipeline\n",
    "from sklearn import preprocessing\n",
    "from sklearn.model_selection import train_test_split\n",
    "from sklearn import metrics\n",
    "from sklearn.metrics import precision_score, recall_score, accuracy_score\n",
    "from sklearn.model_selection import cross_val_score\n",
    "from sklearn.model_selection import learning_curve, GridSearchCV\n",
    "\n",
    "from sklearn.linear_model import Lasso, LogisticRegression\n",
    "from sklearn.feature_selection import SelectFromModel\n",
    "from sklearn.preprocessing import StandardScaler\n",
    "from sklearn.linear_model import LassoCV\n",
    "from sklearn.metrics import roc_auc_score\n",
    "from sklearn.metrics import roc_curve\n",
    "\n",
    "from sklearn.ensemble import RandomForestClassifier\n",
    "from sklearn.ensemble import RandomForestRegressor\n",
    "from sklearn.linear_model import LogisticRegression\n",
    "from sklearn import linear_model\n",
    "from sklearn.svm import SVR, LinearSVC\n",
    "from sklearn.neighbors import KNeighborsClassifier\n",
    "from sklearn.neighbors import KNeighborsRegressor\n",
    "from sklearn.naive_bayes import GaussianNB \n",
    "from sklearn.linear_model import Perceptron\n",
    "from sklearn.tree import DecisionTreeClassifier\n",
    "from sklearn.metrics import confusion_matrix\n",
    "from sklearn.metrics import mean_squared_error\n",
    "from sklearn import preprocessing\n",
    "from sklearn.ensemble import GradientBoostingClassifier\n",
    "\n",
    "from sklearn.utils import resample\n",
    "\n",
    "from sklearn.ensemble import RandomForestClassifier\n",
    "from sklearn.metrics import accuracy_score\n",
    "from sklearn.model_selection import RandomizedSearchCV\n",
    "from imblearn.over_sampling import SMOTE\n",
    "from sklearn.metrics import precision_recall_fscore_support\n",
    "sns.set(style=\"white\")\n",
    "sns.set(style=\"whitegrid\", color_codes=True)\n",
    "plt.rc(\"font\", size=14)\n",
    "from pandas.plotting import scatter_matrix\n",
    "\n",
    "from sklearn.metrics import average_precision_score"
   ]
  },
  {
   "cell_type": "markdown",
   "metadata": {},
   "source": [
    "# Import Data"
   ]
  },
  {
   "cell_type": "code",
   "execution_count": 2,
   "metadata": {},
   "outputs": [],
   "source": [
    "# function:  rename_chosen_features(xpt_file,old_names,new_names,csv_file)\n",
    "# purpose:   rename the chosen features in the XPT file\n",
    "# input:     xpt_file: the converted dataframe from XPT file\n",
    "#            old_names: a list of strings - strings are code names on NHANES \n",
    "#            new_names: a list of strings \n",
    "#            csv_file: name \n",
    "# output:    a dataframe with renamed chosen features  \n",
    "\n",
    "def rename_chosen_features(xpt_file,old_names,new_names,csv_file):\n",
    "    df = xpt_file[old_names]        \n",
    "    df.columns = new_names                \n",
    "    # xpt_file.to_csv(csv_file, header=False) # if needs to get a csv file from the original xpt file\n",
    "    return df"
   ]
  },
  {
   "cell_type": "markdown",
   "metadata": {},
   "source": [
    "Features: \n",
    "    Demographic: Gender, Marital Status, Annual Household Income, Education Level, BMI, \n"
   ]
  },
  {
   "cell_type": "code",
   "execution_count": 3,
   "metadata": {},
   "outputs": [],
   "source": [
    "# datasets storage direction\n",
    "os.chdir('C:/Users/yiyic/Alchohol Research/datasets/')\n",
    "# RIAGENDR: gender - codes\n",
    "# DMDMARTL: marital status - code\n",
    "# INDHHIN2 : annual household income - values & codes: \n",
    "# DMDHREDU : education level \n",
    "# INQ132: Cash Assitance from country/state\n",
    "#2007-2008\n",
    "## Demographics\n",
    "DEMO_xpt_file_1 = pd.read_sas('DEMO_0708.XPT')\n",
    "DEMO_csv_file_1 = 'Demographic0708.csv'\n",
    "DEMO_old_names_1 = ['SEQN','RIAGENDR','DMDHRMAR','INDHHIN2','DMDHREDU']\n",
    "DEMO_new_names_1 = ['ID','gender','marital_status','household_income','education_level']\n",
    "df1_Demo = rename_chosen_features(DEMO_xpt_file_1,DEMO_old_names_1,DEMO_new_names_1,DEMO_csv_file_1)\n",
    "## Body Measures\n",
    "BMX_xpt_file_1 = pd.read_sas('BMX_0708.XPT')\n",
    "BMX_cvs_file_1 = 'BMI0708.csv'\n",
    "# BMXBMI: Body Mass Index (kg/m**2) - values: 11.5 to 67.3\n",
    "BMX_old_names_1 = ['SEQN','BMXBMI']  \n",
    "BMX_new_names_1 = ['ID','BMI']\n",
    "df1_BMX = rename_chosen_features(BMX_xpt_file_1,BMX_old_names_1,BMX_new_names_1,BMX_cvs_file_1)\n",
    "\n",
    "\n",
    "#2009-2010\n",
    "DEMO_xpt_file_2 = pd.read_sas('DEMO_0910.XPT')\n",
    "DEMO_cvs_file_2 = 'Demographic0910.csv'\n",
    "DEMO_old_names_2 = ['SEQN','RIAGENDR','DMDHRMAR','INDHHIN2','DMDHREDU']\n",
    "DEMO_new_names_2 = ['ID','gender','marital_status','household_income','education_level']\n",
    "df2_Demo= rename_chosen_features(DEMO_xpt_file_2,DEMO_old_names_2,DEMO_new_names_2,DEMO_cvs_file_2)\n",
    "## Body Measures\n",
    "BMX_xpt_file_2 = pd.read_sas('BMX_0910.XPT')\n",
    "BMX_cvs_file_2 = 'BMI0910.csv'\n",
    "# BMXBMI: Body Mass Index (kg/m**2) - values: 11.5 to 67.3\n",
    "BMX_old_names_2 = ['SEQN','BMXBMI']  \n",
    "BMX_new_names_2 = ['ID','BMI']\n",
    "df2_BMX = rename_chosen_features(BMX_xpt_file_2,BMX_old_names_2,BMX_new_names_2,BMX_cvs_file_2)\n",
    "\n",
    "\n",
    "#2011-2012\n",
    "## Demographics\n",
    "DEMO_xpt_file_3 = pd.read_sas('DEMO_1112.XPT')\n",
    "DEMO_cvs_file_3 = 'Demographic1112.csv'\n",
    "DEMO_old_names_3 = ['SEQN','RIAGENDR','DMDHRMAR','INDHHIN2','DMDHREDU']\n",
    "DEMO_new_names_3 = ['ID','gender','marital_status','household_income','education_level']\n",
    "df3_Demo = rename_chosen_features(DEMO_xpt_file_3,DEMO_old_names_3,DEMO_new_names_3,DEMO_cvs_file_3)\n",
    "## Body Measures\n",
    "BMX_xpt_file_3 = pd.read_sas('BMX_1112.XPT')\n",
    "BMX_cvs_file_3 = 'BMI1112.csv'\n",
    "# BMXBMI: Body Mass Index (kg/m**2) - values: 11.5 to 67.3\n",
    "BMX_old_names_3 = ['SEQN','BMXBMI']  \n",
    "BMX_new_names_3 = ['ID','BMI']\n",
    "df3_BMX = rename_chosen_features(BMX_xpt_file_3,BMX_old_names_3,BMX_new_names_3,BMX_cvs_file_3)\n",
    "\n",
    "#2013-2014\n",
    "## Demographics\n",
    "DEMO_xpt_file_4 = pd.read_sas('DEMO_1314.XPT')\n",
    "DEMO_cvs_file_4 = 'Demographic1314.csv'\n",
    "DEMO_old_names_4 = ['SEQN','RIAGENDR','DMDHRMAR','INDHHIN2','DMDHREDU']\n",
    "DEMO_new_names_4 = ['ID','gender','marital_status','household_income','education_level']\n",
    "df4_Demo = rename_chosen_features(DEMO_xpt_file_4,DEMO_old_names_4,DEMO_new_names_4,DEMO_cvs_file_4)\n",
    "## Body Measures\n",
    "BMX_xpt_file_4 = pd.read_sas('BMX_1314.XPT')\n",
    "BMX_cvs_file_4 = 'BMI1314.csv'\n",
    "# BMXBMI: Body Mass Index (kg/m**2) - values: 11.5 to 67.3\n",
    "BMX_old_names_4 = ['SEQN','BMXBMI']  \n",
    "BMX_new_names_4 = ['ID','BMI']\n",
    "df4_BMX = rename_chosen_features(BMX_xpt_file_4,BMX_old_names_4,BMX_new_names_4,BMX_cvs_file_4)\n",
    "\n",
    "#2015-2016\n",
    "## Demographics\n",
    "DEMO_xpt_file_5 = pd.read_sas('DEMO_1516.XPT')\n",
    "DEMO_cvs_file_5 = 'Demographic1516.csv'\n",
    "DEMO_old_names_5 = ['SEQN','RIAGENDR','DMDHRMAR','INDHHIN2','DMDHREDU']\n",
    "DEMO_new_names_5 = ['ID','gender','marital_status','household_income','education_level']\n",
    "df5_Demo = rename_chosen_features(DEMO_xpt_file_5,DEMO_old_names_5,DEMO_new_names_5,DEMO_cvs_file_5)\n",
    "## Body Measures\n",
    "BMX_xpt_file_5 = pd.read_sas('BMX_1516.XPT')\n",
    "BMX_cvs_file_5 = 'BMI1516.csv'\n",
    "# BMXBMI: Body Mass Index (kg/m**2) - values: 11.5 to 67.3\n",
    "BMX_old_names_5 = ['SEQN','BMXBMI']  \n",
    "BMX_new_names_5 = ['ID','BMI']\n",
    "df5_BMX = rename_chosen_features(BMX_xpt_file_5,BMX_old_names_5,BMX_new_names_5,BMX_cvs_file_5)"
   ]
  },
  {
   "cell_type": "code",
   "execution_count": 4,
   "metadata": {},
   "outputs": [],
   "source": [
    "#alchohol consumption\n",
    "#2007-2008\n",
    "ALQ_xpt_file_1=pd.read_sas('ALQ_0708.XPT')\n",
    "ALQ_csv_file_1='ALQ0708.csv'\n",
    "#ALQ101: Had at least 12 alcohol drinks/1 yr?\n",
    "ALQ_old_names_1=['SEQN','ALQ101']\n",
    "ALQ_new_names_1=['ID','alchohol']\n",
    "df1_ALQ=rename_chosen_features(ALQ_xpt_file_1,ALQ_old_names_1,ALQ_new_names_1,ALQ_csv_file_1)\n",
    "#2009-2010\n",
    "ALQ_xpt_file_2=pd.read_sas('ALQ_0910.XPT')\n",
    "ALQ_csv_file_2='ALQ0910.csv'\n",
    "#ALQ101: Had at least 12 alcohol drinks/1 yr?\n",
    "ALQ_old_names_2=['SEQN','ALQ101']\n",
    "ALQ_new_names_2=['ID','alchohol']\n",
    "df2_ALQ=rename_chosen_features(ALQ_xpt_file_2,ALQ_old_names_2,ALQ_new_names_2,ALQ_csv_file_2)\n",
    "#2011-2012\n",
    "ALQ_xpt_file_3=pd.read_sas('ALQ_1112.XPT')\n",
    "ALQ_csv_file_3='ALQ1112.csv'\n",
    "#ALQ101: Had at least 12 alcohol drinks/1 yr?\n",
    "ALQ_old_names_3=['SEQN','ALQ101']\n",
    "ALQ_new_names_3=['ID','alchohol']\n",
    "df3_ALQ=rename_chosen_features(ALQ_xpt_file_3,ALQ_old_names_3,ALQ_new_names_3,ALQ_csv_file_3)\n",
    "\n",
    "#2013-2014\n",
    "ALQ_xpt_file_4=pd.read_sas('ALQ_1314.XPT')\n",
    "ALQ_csv_file_4='ALQ1314.csv'\n",
    "#ALQ101: Had at least 12 alcohol drinks/1 yr?\n",
    "ALQ_old_names_4=['SEQN','ALQ101']\n",
    "ALQ_new_names_4=['ID','alchohol']\n",
    "df4_ALQ=rename_chosen_features(ALQ_xpt_file_4,ALQ_old_names_4,ALQ_new_names_4,ALQ_csv_file_4)\n",
    "\n",
    "#2015-2016\n",
    "ALQ_xpt_file_5=pd.read_sas('ALQ_1516.XPT')\n",
    "ALQ_csv_file_5='ALQ1516.csv'\n",
    "#ALQ101: Had at least 12 alcohol drinks/1 yr?\n",
    "ALQ_old_names_5=['SEQN','ALQ101']\n",
    "ALQ_new_names_5=['ID','alchohol']\n",
    "df5_ALQ=rename_chosen_features(ALQ_xpt_file_5,ALQ_old_names_5,ALQ_new_names_5,ALQ_csv_file_5)\n",
    "\n",
    "\n"
   ]
  },
  {
   "cell_type": "markdown",
   "metadata": {},
   "source": [
    "# Merge Dataframes"
   ]
  },
  {
   "cell_type": "code",
   "execution_count": 5,
   "metadata": {},
   "outputs": [],
   "source": [
    "df1 = pd.merge(df1_Demo, df1_BMX, how =\"inner\", on = \"ID\")\n",
    "df1 = pd.merge(df1,df1_ALQ, how =\"inner\", on = \"ID\")\n",
    "\n",
    "df2 = pd.merge(df2_Demo, df2_BMX, how =\"inner\", on = \"ID\")\n",
    "df2 = pd.merge(df2,df2_ALQ, how =\"inner\", on = \"ID\")\n",
    "\n",
    "df3 = pd.merge(df3_Demo, df3_BMX, how =\"inner\", on = \"ID\")\n",
    "df3 = pd.merge(df3,df3_ALQ, how =\"inner\", on = \"ID\")\n",
    "\n",
    "df4 = pd.merge(df4_Demo, df4_BMX, how =\"inner\", on = \"ID\")\n",
    "df4 = pd.merge(df4,df4_ALQ, how =\"inner\", on = \"ID\")\n",
    "\n",
    "df5 = pd.merge(df5_Demo, df5_BMX, how =\"inner\", on = \"ID\")\n",
    "df5 = pd.merge(df5,df5_ALQ, how =\"inner\", on = \"ID\")\n",
    "\n"
   ]
  },
  {
   "cell_type": "markdown",
   "metadata": {},
   "source": [
    "# Set Index"
   ]
  },
  {
   "cell_type": "code",
   "execution_count": 6,
   "metadata": {},
   "outputs": [],
   "source": [
    "# set SEQN to index of the df1\n",
    "df1.set_index('ID', inplace=True)      \n",
    "# if has duplicated indexs(ID), keep the first one \n",
    "df1 = df1[~df1.index.duplicated(keep='first')]\n",
    "\n",
    "\n",
    "# set SEQN to index of the df2\n",
    "df2.set_index('ID', inplace=True)      \n",
    "# if has duplicated indexs(ID), keep the first one \n",
    "df2 = df2[~df2.index.duplicated(keep='first')]\n",
    "\n",
    "# set SEQN to index of the df3\n",
    "df3.set_index('ID', inplace=True)      \n",
    "# if has duplicated indexs(ID), keep the first one \n",
    "df3 = df3[~df3.index.duplicated(keep='first')]\n",
    "\n",
    "\n",
    "# set SEQN to index of the df4\n",
    "df4.set_index('ID', inplace=True)      \n",
    "# if has duplicated indexs(ID), keep the first one \n",
    "df4 = df4[~df4.index.duplicated(keep='first')]\n",
    "\n",
    "# set SEQN to index of the df5\n",
    "df5.set_index('ID', inplace=True)      \n",
    "# if has duplicated indexs(ID), keep the first one \n",
    "df5 = df5[~df5.index.duplicated(keep='first')]"
   ]
  },
  {
   "cell_type": "code",
   "execution_count": 7,
   "metadata": {},
   "outputs": [
    {
     "name": "stdout",
     "output_type": "stream",
     "text": [
      "<class 'pandas.core.frame.DataFrame'>\n",
      "Float64Index: 29040 entries, 41475.0 to 93702.0\n",
      "Data columns (total 6 columns):\n",
      "BMI                 28635 non-null float64\n",
      "alchohol            26171 non-null float64\n",
      "education_level     28186 non-null float64\n",
      "gender              29040 non-null float64\n",
      "household_income    28647 non-null float64\n",
      "marital_status      28697 non-null float64\n",
      "dtypes: float64(6)\n",
      "memory usage: 1.6 MB\n",
      "           BMI  alchohol  education_level  gender  household_income  \\\n",
      "ID                                                                    \n",
      "41475.0  58.04       2.0              4.0     2.0               6.0   \n",
      "41477.0  30.05       2.0              3.0     1.0               5.0   \n",
      "41479.0  27.56       1.0              1.0     1.0               8.0   \n",
      "41481.0  23.34       1.0              4.0     1.0               6.0   \n",
      "41482.0  33.64       1.0              4.0     1.0              15.0   \n",
      "...        ...       ...              ...     ...               ...   \n",
      "93695.0  21.50       2.0              3.0     2.0               4.0   \n",
      "93696.0  33.80       2.0              5.0     1.0               9.0   \n",
      "93697.0  31.00       1.0              4.0     2.0               7.0   \n",
      "93700.0  26.00       NaN              1.0     1.0               1.0   \n",
      "93702.0  21.40       1.0              5.0     2.0              10.0   \n",
      "\n",
      "         marital_status  \n",
      "ID                       \n",
      "41475.0             1.0  \n",
      "41477.0             1.0  \n",
      "41479.0             1.0  \n",
      "41481.0             3.0  \n",
      "41482.0             5.0  \n",
      "...                 ...  \n",
      "93695.0             2.0  \n",
      "93696.0             1.0  \n",
      "93697.0             2.0  \n",
      "93700.0             1.0  \n",
      "93702.0             5.0  \n",
      "\n",
      "[29040 rows x 6 columns]\n"
     ]
    }
   ],
   "source": [
    "df1 = df1.reindex(sorted(df1.columns), axis=1)\n",
    "df2 = df2.reindex(sorted(df1.columns), axis=1)\n",
    "df3 = df3.reindex(sorted(df1.columns), axis=1)\n",
    "df4 = df4.reindex(sorted(df1.columns), axis=1)\n",
    "df5 = df5.reindex(sorted(df1.columns), axis=1)\n",
    "\n",
    "final_df = pd.concat([df1, df2,df3,df4,df5], axis =0)\n",
    "final_df.info()\n",
    "\n",
    "df = final_df.copy(deep=True)\n",
    "df.head()\n",
    "print(df)"
   ]
  },
  {
   "cell_type": "markdown",
   "metadata": {},
   "source": [
    "# Data Pre-Processing¶"
   ]
  },
  {
   "cell_type": "code",
   "execution_count": 8,
   "metadata": {},
   "outputs": [],
   "source": [
    "# function:  clean_epsilon(cell)\n",
    "# purpose:   in the orginal files, zeros are represented by a small value (10^-79), convert them to actual zeros\n",
    "# input:     a dataframe that with (10^-79) as zeroes \n",
    "# output:    a dataframe with actual zeroes \n",
    "\n",
    "def clean_epsilon(cell):\n",
    "    if cell - 0.0 < 0.0001:\n",
    "        return 0\n",
    "    return cell\n",
    "\n",
    "df = df.applymap(clean_epsilon)"
   ]
  },
  {
   "cell_type": "code",
   "execution_count": 9,
   "metadata": {},
   "outputs": [],
   "source": [
    "# function:  get_cstr_ratio(df,feature,cstr)\n",
    "# purpose:   get the percentage of 'don't know' and 'refuse' out of number of entries\n",
    "# input:     cstr: a list of two integers. ex: [77,99] \n",
    "# output:    ratios of dk/entries and refuse/entries \n",
    "\n",
    "def get_cstr_ratio(df,feature,cstr):\n",
    "    total_count = df.shape[0]\n",
    "    dk = cstr[0]      # don't know\n",
    "    refuse = cstr[1]  # refuse to answer\n",
    "    \n",
    "    feature_counts = df[feature].value_counts().to_dict()\n",
    "    if dk not in feature_counts: dk = 0         # When there's no 'dk'/'refuse' in responses\n",
    "    else: dk = feature_counts[dk]\n",
    "    if refuse not in feature_counts: refuse = 0\n",
    "    else: refuse = feature_counts[refuse]\n",
    "\n",
    "    dk = int(dk)\n",
    "    refuse = int(refuse)\n",
    "    r1 = dk/total_count\n",
    "    r2 = refuse/total_count\n",
    "    print()\n",
    "    print('The ratio of [dont know] is', r1)\n",
    "    print('The ratio of [refuse] is', r2)\n",
    "    print('Now call: process_cstr(df,feature,cstr,method)')\n",
    "\n",
    "# function:  process_cstr(df,feature,cstr,method)\n",
    "# purpose:   if cstr ratio is high, then replace cstr with NaN and deal with NaN later\n",
    "#            if cstr ratio is low, then drop entries with cstr\n",
    "# input:     cstr: a list of two integers. ex: [77,99]\n",
    "#            method: select among 'drop', 'NaN'\n",
    "# output:    \n",
    "\n",
    "def process_cstr(df,feature,cstr,method):\n",
    "    dk = cstr[0] # don't know\n",
    "    refuse = cstr[1]  # refuse to answer\n",
    "    if method == 'drop':\n",
    "        df = df[df[feature] != dk]\n",
    "        df = df[df[feature] != refuse]\n",
    "    elif method == 'NaN':\n",
    "        df[feature][df[feature] == dk] = np.nan\n",
    "        df[feature][df[feature] == refuse] = np.nan\n",
    "    else:\n",
    "        print('The method you choose is not included yet, add new method now!')\n",
    "    return df"
   ]
  },
  {
   "cell_type": "code",
   "execution_count": 10,
   "metadata": {},
   "outputs": [],
   "source": [
    "#Function to obtain the count of missing values\n",
    "def get_value_count(df,feature): \n",
    "    print()\n",
    "    print('NaN   ',df[feature].isna().sum())\n",
    "    print(df[feature].value_counts())"
   ]
  },
  {
   "cell_type": "markdown",
   "metadata": {},
   "source": [
    "# Functions to Visualize Missing values¶"
   ]
  },
  {
   "cell_type": "code",
   "execution_count": 11,
   "metadata": {},
   "outputs": [
    {
     "name": "stdout",
     "output_type": "stream",
     "text": [
      "<class 'pandas.core.frame.DataFrame'>\n",
      "Float64Index: 29040 entries, 41475.0 to 93702.0\n",
      "Data columns (total 6 columns):\n",
      "BMI                 28635 non-null float64\n",
      "alchohol            26171 non-null float64\n",
      "education_level     28186 non-null float64\n",
      "gender              29040 non-null float64\n",
      "household_income    28647 non-null float64\n",
      "marital_status      28697 non-null float64\n",
      "dtypes: float64(6)\n",
      "memory usage: 1.6 MB\n"
     ]
    },
    {
     "data": {
      "image/png": "[encoded data removed]",
      "text/plain": [
       "<Figure size 1080x432 with 1 Axes>"
      ]
     },
     "metadata": {
      "needs_background": "light"
     },
     "output_type": "display_data"
    }
   ],
   "source": [
    "def get_NaN_ratio(df,feature):\n",
    "    print()\n",
    "    total_count = df.shape[0]                  # total entries\n",
    "    feature_valid_count = df[feature].count()  # non-NaN entries for chosen feature\n",
    "    feature_null_count = total_count - feature_valid_count\n",
    "    NaN_ratio = feature_null_count/total_count\n",
    "    print('The NaN ratio in',feature,'is',\"%.3f\" % NaN_ratio)\n",
    "    if NaN_ratio == 0:\n",
    "        print('No missing values detected')\n",
    "    elif NaN_ratio <= 0.1:\n",
    "        print('Since NaN ratio is small, fill NaN directly with fill type: mode, mean, new category')\n",
    "        print('Now call function: fill_NaN(df, feature, fill_type)')\n",
    "    else:\n",
    "        print('Since NaN ratio is large, predict NaN using ML or check predictability first...')\n",
    "        print('if check predictability, call: check_predictability_all/some_x(df,y,method)')\n",
    "        print('if predict using ML, call: predict_NaN_with_ML(df,x,y,data_type,model)')\n",
    "\n",
    "# features = df.columns.values.tolist()\n",
    "# for feature in features:\n",
    "#     get_NaN_ratio(df,feature)\n",
    "#     print('----------------------')\n",
    "\n",
    "\n",
    "def plot_NaN_percentage_for_all(df):\n",
    "    total = df.isnull().sum().sort_values(ascending=False)\n",
    "    percent = (df.isnull().sum()/df.isnull().count()).sort_values(ascending=False)\n",
    "    missing_data = pd.concat([total, percent], axis=1, keys=['Total', 'Percent'])\n",
    "    # missing_data.head()\n",
    "    f, ax = plt.subplots(figsize=(15, 6))\n",
    "    plt.xticks(rotation='90')\n",
    "    sns.barplot(x=missing_data.index, y=missing_data['Percent'])\n",
    "    plt.xlabel('Features', fontsize=15)\n",
    "    plt.ylabel('Percent of missing values', fontsize=15)\n",
    "    plt.title('Percent missing data by feature', fontsize=15)\n",
    "    \n",
    "    \n",
    "plot_NaN_percentage_for_all(df)\n",
    "df.info()"
   ]
  },
  {
   "cell_type": "markdown",
   "metadata": {},
   "source": [
    "# Outliers"
   ]
  },
  {
   "cell_type": "code",
   "execution_count": 12,
   "metadata": {},
   "outputs": [
    {
     "name": "stdout",
     "output_type": "stream",
     "text": [
      "Index(['BMI', 'alchohol', 'education_level', 'gender', 'household_income',\n",
      "       'marital_status'],\n",
      "      dtype='object')\n"
     ]
    }
   ],
   "source": [
    "def find_anomalies(data, a):\n",
    "    anomalies_a = []\n",
    "    patient_a = []\n",
    "\n",
    "    # Set upper and lower limit to 3 standard deviation \n",
    "    random_data_std = data.std()\n",
    "    random_data_mean = data.mean()\n",
    "    anomaly_cut_off = random_data_std * 3\n",
    "    \n",
    "    lower_limit  = random_data_mean - anomaly_cut_off \n",
    "    upper_limit = random_data_mean + anomaly_cut_off\n",
    "    \n",
    "    # Generate outliers\n",
    "    for i in data:\n",
    "        if i > upper_limit or i < lower_limit:\n",
    "            anomalies_a.append(i)\n",
    "            index_value_i = (data==i).index\n",
    "            patient_a.append(index_value_i)\n",
    "    return anomalies_a\n",
    "    #return patient_a\n",
    "\n",
    "print(df.columns)"
   ]
  },
  {
   "cell_type": "code",
   "execution_count": 13,
   "metadata": {},
   "outputs": [
    {
     "name": "stdout",
     "output_type": "stream",
     "text": [
      "363\n"
     ]
    },
    {
     "data": {
      "text/plain": [
       "count    28272.000000\n",
       "mean        28.665251\n",
       "std          6.240853\n",
       "min         13.180000\n",
       "25%         24.100000\n",
       "50%         27.800000\n",
       "75%         32.210000\n",
       "max         49.840000\n",
       "Name: BMI, dtype: float64"
      ]
     },
     "execution_count": 13,
     "metadata": {},
     "output_type": "execute_result"
    },
    {
     "data": {
      "image/png": "[encoded data removed]",
      "text/plain": [
       "<Figure size 432x288 with 1 Axes>"
      ]
     },
     "metadata": {
      "needs_background": "light"
     },
     "output_type": "display_data"
    },
    {
     "data": {
      "image/png": "[encoded data removed]",
      "text/plain": [
       "<Figure size 432x288 with 1 Axes>"
      ]
     },
     "metadata": {
      "needs_background": "light"
     },
     "output_type": "display_data"
    }
   ],
   "source": [
    "print(len(find_anomalies(df[\"BMI\"],1)))\n",
    "boxplot = df.boxplot(column=['BMI'])\n",
    "hist = df.hist(column=['BMI'])\n",
    "for i in find_anomalies(df[\"BMI\"],1):\n",
    "    df = df[df.BMI != i]\n",
    "df[\"BMI\"].describe()"
   ]
  },
  {
   "cell_type": "code",
   "execution_count": 14,
   "metadata": {},
   "outputs": [
    {
     "data": {
      "image/png": "[encoded data removed]",
      "text/plain": [
       "<Figure size 432x288 with 1 Axes>"
      ]
     },
     "metadata": {
      "needs_background": "light"
     },
     "output_type": "display_data"
    },
    {
     "data": {
      "image/png": "[encoded data removed]",
      "text/plain": [
       "<Figure size 432x288 with 1 Axes>"
      ]
     },
     "metadata": {
      "needs_background": "light"
     },
     "output_type": "display_data"
    }
   ],
   "source": [
    "hist_before = df.hist(column=['BMI'], range=[10, 60])\n",
    "df[\"BMI\"] = np.log(df[\"BMI\"])\n",
    "hist_after = df.hist(column=['BMI'])"
   ]
  },
  {
   "cell_type": "code",
   "execution_count": 15,
   "metadata": {
    "scrolled": true
   },
   "outputs": [
    {
     "data": {
      "text/plain": [
       "array([[<matplotlib.axes._subplots.AxesSubplot object at 0x00000188CF05EFC8>]],\n",
       "      dtype=object)"
      ]
     },
     "execution_count": 15,
     "metadata": {},
     "output_type": "execute_result"
    },
    {
     "data": {
      "image/png": "[encoded data removed]",
      "text/plain": [
       "<Figure size 432x288 with 1 Axes>"
      ]
     },
     "metadata": {
      "needs_background": "light"
     },
     "output_type": "display_data"
    }
   ],
   "source": [
    "df.hist(column=['education_level'])"
   ]
  },
  {
   "cell_type": "code",
   "execution_count": 16,
   "metadata": {},
   "outputs": [
    {
     "data": {
      "text/plain": [
       "array([[<matplotlib.axes._subplots.AxesSubplot object at 0x00000188CF6F8208>]],\n",
       "      dtype=object)"
      ]
     },
     "execution_count": 16,
     "metadata": {},
     "output_type": "execute_result"
    },
    {
     "data": {
      "image/png": "[encoded data removed]",
      "text/plain": [
       "<Figure size 432x288 with 1 Axes>"
      ]
     },
     "metadata": {
      "needs_background": "light"
     },
     "output_type": "display_data"
    }
   ],
   "source": [
    "df.hist(column=['alchohol'])"
   ]
  },
  {
   "cell_type": "markdown",
   "metadata": {},
   "source": [
    "# Drop don't know and refuse to answer in features"
   ]
  },
  {
   "cell_type": "code",
   "execution_count": 17,
   "metadata": {},
   "outputs": [],
   "source": [
    "df=process_cstr(df,'marital_status',method='drop',cstr=[77,99])"
   ]
  },
  {
   "cell_type": "code",
   "execution_count": 18,
   "metadata": {},
   "outputs": [],
   "source": [
    "df=process_cstr(df,'household_income',method='drop',cstr=[77,99])"
   ]
  },
  {
   "cell_type": "code",
   "execution_count": 19,
   "metadata": {},
   "outputs": [],
   "source": [
    "df=process_cstr(df,'education_level',method='drop',cstr=[7,9])"
   ]
  },
  {
   "cell_type": "code",
   "execution_count": 20,
   "metadata": {},
   "outputs": [],
   "source": [
    "df=process_cstr(df,'alchohol',method='drop',cstr=[7,9])"
   ]
  },
  {
   "cell_type": "markdown",
   "metadata": {},
   "source": [
    "# from the plot of missing values, the percentage is relatively small. We can just delete the missing values.\n"
   ]
  },
  {
   "cell_type": "code",
   "execution_count": 21,
   "metadata": {},
   "outputs": [],
   "source": [
    "df.dropna(axis=0,how='any',inplace=True)"
   ]
  },
  {
   "cell_type": "code",
   "execution_count": 22,
   "metadata": {},
   "outputs": [
    {
     "data": {
      "text/html": [
       "<div>\n",
       "<style scoped>\n",
       "    .dataframe tbody tr th:only-of-type {\n",
       "        vertical-align: middle;\n",
       "    }\n",
       "\n",
       "    .dataframe tbody tr th {\n",
       "        vertical-align: top;\n",
       "    }\n",
       "\n",
       "    .dataframe thead th {\n",
       "        text-align: right;\n",
       "    }\n",
       "</style>\n",
       "<table border=\"1\" class=\"dataframe\">\n",
       "  <thead>\n",
       "    <tr style=\"text-align: right;\">\n",
       "      <th></th>\n",
       "      <th>BMI</th>\n",
       "      <th>alchohol</th>\n",
       "      <th>education_level</th>\n",
       "      <th>gender</th>\n",
       "      <th>household_income</th>\n",
       "      <th>marital_status</th>\n",
       "    </tr>\n",
       "    <tr>\n",
       "      <th>ID</th>\n",
       "      <th></th>\n",
       "      <th></th>\n",
       "      <th></th>\n",
       "      <th></th>\n",
       "      <th></th>\n",
       "      <th></th>\n",
       "    </tr>\n",
       "  </thead>\n",
       "  <tbody>\n",
       "    <tr>\n",
       "      <td>41477.0</td>\n",
       "      <td>3.402863</td>\n",
       "      <td>2.0</td>\n",
       "      <td>3.0</td>\n",
       "      <td>1.0</td>\n",
       "      <td>5.0</td>\n",
       "      <td>1.0</td>\n",
       "    </tr>\n",
       "    <tr>\n",
       "      <td>41479.0</td>\n",
       "      <td>3.316365</td>\n",
       "      <td>1.0</td>\n",
       "      <td>1.0</td>\n",
       "      <td>1.0</td>\n",
       "      <td>8.0</td>\n",
       "      <td>1.0</td>\n",
       "    </tr>\n",
       "    <tr>\n",
       "      <td>41481.0</td>\n",
       "      <td>3.150169</td>\n",
       "      <td>1.0</td>\n",
       "      <td>4.0</td>\n",
       "      <td>1.0</td>\n",
       "      <td>6.0</td>\n",
       "      <td>3.0</td>\n",
       "    </tr>\n",
       "    <tr>\n",
       "      <td>41482.0</td>\n",
       "      <td>3.515716</td>\n",
       "      <td>1.0</td>\n",
       "      <td>4.0</td>\n",
       "      <td>1.0</td>\n",
       "      <td>15.0</td>\n",
       "      <td>5.0</td>\n",
       "    </tr>\n",
       "    <tr>\n",
       "      <td>41483.0</td>\n",
       "      <td>3.785552</td>\n",
       "      <td>2.0</td>\n",
       "      <td>4.0</td>\n",
       "      <td>1.0</td>\n",
       "      <td>5.0</td>\n",
       "      <td>1.0</td>\n",
       "    </tr>\n",
       "    <tr>\n",
       "      <td>...</td>\n",
       "      <td>...</td>\n",
       "      <td>...</td>\n",
       "      <td>...</td>\n",
       "      <td>...</td>\n",
       "      <td>...</td>\n",
       "      <td>...</td>\n",
       "    </tr>\n",
       "    <tr>\n",
       "      <td>93691.0</td>\n",
       "      <td>3.044522</td>\n",
       "      <td>2.0</td>\n",
       "      <td>1.0</td>\n",
       "      <td>1.0</td>\n",
       "      <td>10.0</td>\n",
       "      <td>1.0</td>\n",
       "    </tr>\n",
       "    <tr>\n",
       "      <td>93695.0</td>\n",
       "      <td>3.068053</td>\n",
       "      <td>2.0</td>\n",
       "      <td>3.0</td>\n",
       "      <td>2.0</td>\n",
       "      <td>4.0</td>\n",
       "      <td>2.0</td>\n",
       "    </tr>\n",
       "    <tr>\n",
       "      <td>93696.0</td>\n",
       "      <td>3.520461</td>\n",
       "      <td>2.0</td>\n",
       "      <td>5.0</td>\n",
       "      <td>1.0</td>\n",
       "      <td>9.0</td>\n",
       "      <td>1.0</td>\n",
       "    </tr>\n",
       "    <tr>\n",
       "      <td>93697.0</td>\n",
       "      <td>3.433987</td>\n",
       "      <td>1.0</td>\n",
       "      <td>4.0</td>\n",
       "      <td>2.0</td>\n",
       "      <td>7.0</td>\n",
       "      <td>2.0</td>\n",
       "    </tr>\n",
       "    <tr>\n",
       "      <td>93702.0</td>\n",
       "      <td>3.063391</td>\n",
       "      <td>1.0</td>\n",
       "      <td>5.0</td>\n",
       "      <td>2.0</td>\n",
       "      <td>10.0</td>\n",
       "      <td>5.0</td>\n",
       "    </tr>\n",
       "  </tbody>\n",
       "</table>\n",
       "<p>23420 rows × 6 columns</p>\n",
       "</div>"
      ],
      "text/plain": [
       "              BMI  alchohol  education_level  gender  household_income  \\\n",
       "ID                                                                       \n",
       "41477.0  3.402863       2.0              3.0     1.0               5.0   \n",
       "41479.0  3.316365       1.0              1.0     1.0               8.0   \n",
       "41481.0  3.150169       1.0              4.0     1.0               6.0   \n",
       "41482.0  3.515716       1.0              4.0     1.0              15.0   \n",
       "41483.0  3.785552       2.0              4.0     1.0               5.0   \n",
       "...           ...       ...              ...     ...               ...   \n",
       "93691.0  3.044522       2.0              1.0     1.0              10.0   \n",
       "93695.0  3.068053       2.0              3.0     2.0               4.0   \n",
       "93696.0  3.520461       2.0              5.0     1.0               9.0   \n",
       "93697.0  3.433987       1.0              4.0     2.0               7.0   \n",
       "93702.0  3.063391       1.0              5.0     2.0              10.0   \n",
       "\n",
       "         marital_status  \n",
       "ID                       \n",
       "41477.0             1.0  \n",
       "41479.0             1.0  \n",
       "41481.0             3.0  \n",
       "41482.0             5.0  \n",
       "41483.0             1.0  \n",
       "...                 ...  \n",
       "93691.0             1.0  \n",
       "93695.0             2.0  \n",
       "93696.0             1.0  \n",
       "93697.0             2.0  \n",
       "93702.0             5.0  \n",
       "\n",
       "[23420 rows x 6 columns]"
      ]
     },
     "execution_count": 22,
     "metadata": {},
     "output_type": "execute_result"
    }
   ],
   "source": [
    "df"
   ]
  },
  {
   "cell_type": "code",
   "execution_count": 24,
   "metadata": {},
   "outputs": [
    {
     "data": {
      "text/plain": [
       "0.0    11790\n",
       "1.0    11630\n",
       "Name: gender, dtype: int64"
      ]
     },
     "execution_count": 24,
     "metadata": {},
     "output_type": "execute_result"
    }
   ],
   "source": [
    "#Change 2(NHANES for Female) to 0(False - boolean) for features with YES/NO answers\n",
    "df.loc[df['gender'] == 2,['gender']] = 0\n",
    "df['gender'].value_counts()"
   ]
  },
  {
   "cell_type": "code",
   "execution_count": 25,
   "metadata": {},
   "outputs": [
    {
     "data": {
      "text/html": [
       "<div>\n",
       "<style scoped>\n",
       "    .dataframe tbody tr th:only-of-type {\n",
       "        vertical-align: middle;\n",
       "    }\n",
       "\n",
       "    .dataframe tbody tr th {\n",
       "        vertical-align: top;\n",
       "    }\n",
       "\n",
       "    .dataframe thead th {\n",
       "        text-align: right;\n",
       "    }\n",
       "</style>\n",
       "<table border=\"1\" class=\"dataframe\">\n",
       "  <thead>\n",
       "    <tr style=\"text-align: right;\">\n",
       "      <th></th>\n",
       "      <th>BMI</th>\n",
       "      <th>alchohol</th>\n",
       "      <th>education_level</th>\n",
       "      <th>gender</th>\n",
       "      <th>household_income</th>\n",
       "      <th>marital_status</th>\n",
       "    </tr>\n",
       "    <tr>\n",
       "      <th>ID</th>\n",
       "      <th></th>\n",
       "      <th></th>\n",
       "      <th></th>\n",
       "      <th></th>\n",
       "      <th></th>\n",
       "      <th></th>\n",
       "    </tr>\n",
       "  </thead>\n",
       "  <tbody>\n",
       "    <tr>\n",
       "      <td>41477.0</td>\n",
       "      <td>3.402863</td>\n",
       "      <td>2.0</td>\n",
       "      <td>3.0</td>\n",
       "      <td>1.0</td>\n",
       "      <td>5.0</td>\n",
       "      <td>1.0</td>\n",
       "    </tr>\n",
       "    <tr>\n",
       "      <td>41479.0</td>\n",
       "      <td>3.316365</td>\n",
       "      <td>1.0</td>\n",
       "      <td>1.0</td>\n",
       "      <td>1.0</td>\n",
       "      <td>8.0</td>\n",
       "      <td>1.0</td>\n",
       "    </tr>\n",
       "    <tr>\n",
       "      <td>41481.0</td>\n",
       "      <td>3.150169</td>\n",
       "      <td>1.0</td>\n",
       "      <td>4.0</td>\n",
       "      <td>1.0</td>\n",
       "      <td>6.0</td>\n",
       "      <td>3.0</td>\n",
       "    </tr>\n",
       "    <tr>\n",
       "      <td>41482.0</td>\n",
       "      <td>3.515716</td>\n",
       "      <td>1.0</td>\n",
       "      <td>4.0</td>\n",
       "      <td>1.0</td>\n",
       "      <td>15.0</td>\n",
       "      <td>5.0</td>\n",
       "    </tr>\n",
       "    <tr>\n",
       "      <td>41483.0</td>\n",
       "      <td>3.785552</td>\n",
       "      <td>2.0</td>\n",
       "      <td>4.0</td>\n",
       "      <td>1.0</td>\n",
       "      <td>5.0</td>\n",
       "      <td>1.0</td>\n",
       "    </tr>\n",
       "    <tr>\n",
       "      <td>...</td>\n",
       "      <td>...</td>\n",
       "      <td>...</td>\n",
       "      <td>...</td>\n",
       "      <td>...</td>\n",
       "      <td>...</td>\n",
       "      <td>...</td>\n",
       "    </tr>\n",
       "    <tr>\n",
       "      <td>93691.0</td>\n",
       "      <td>3.044522</td>\n",
       "      <td>2.0</td>\n",
       "      <td>1.0</td>\n",
       "      <td>1.0</td>\n",
       "      <td>10.0</td>\n",
       "      <td>1.0</td>\n",
       "    </tr>\n",
       "    <tr>\n",
       "      <td>93695.0</td>\n",
       "      <td>3.068053</td>\n",
       "      <td>2.0</td>\n",
       "      <td>3.0</td>\n",
       "      <td>0.0</td>\n",
       "      <td>4.0</td>\n",
       "      <td>2.0</td>\n",
       "    </tr>\n",
       "    <tr>\n",
       "      <td>93696.0</td>\n",
       "      <td>3.520461</td>\n",
       "      <td>2.0</td>\n",
       "      <td>5.0</td>\n",
       "      <td>1.0</td>\n",
       "      <td>9.0</td>\n",
       "      <td>1.0</td>\n",
       "    </tr>\n",
       "    <tr>\n",
       "      <td>93697.0</td>\n",
       "      <td>3.433987</td>\n",
       "      <td>1.0</td>\n",
       "      <td>4.0</td>\n",
       "      <td>0.0</td>\n",
       "      <td>7.0</td>\n",
       "      <td>2.0</td>\n",
       "    </tr>\n",
       "    <tr>\n",
       "      <td>93702.0</td>\n",
       "      <td>3.063391</td>\n",
       "      <td>1.0</td>\n",
       "      <td>5.0</td>\n",
       "      <td>0.0</td>\n",
       "      <td>10.0</td>\n",
       "      <td>5.0</td>\n",
       "    </tr>\n",
       "  </tbody>\n",
       "</table>\n",
       "<p>23420 rows × 6 columns</p>\n",
       "</div>"
      ],
      "text/plain": [
       "              BMI  alchohol  education_level  gender  household_income  \\\n",
       "ID                                                                       \n",
       "41477.0  3.402863       2.0              3.0     1.0               5.0   \n",
       "41479.0  3.316365       1.0              1.0     1.0               8.0   \n",
       "41481.0  3.150169       1.0              4.0     1.0               6.0   \n",
       "41482.0  3.515716       1.0              4.0     1.0              15.0   \n",
       "41483.0  3.785552       2.0              4.0     1.0               5.0   \n",
       "...           ...       ...              ...     ...               ...   \n",
       "93691.0  3.044522       2.0              1.0     1.0              10.0   \n",
       "93695.0  3.068053       2.0              3.0     0.0               4.0   \n",
       "93696.0  3.520461       2.0              5.0     1.0               9.0   \n",
       "93697.0  3.433987       1.0              4.0     0.0               7.0   \n",
       "93702.0  3.063391       1.0              5.0     0.0              10.0   \n",
       "\n",
       "         marital_status  \n",
       "ID                       \n",
       "41477.0             1.0  \n",
       "41479.0             1.0  \n",
       "41481.0             3.0  \n",
       "41482.0             5.0  \n",
       "41483.0             1.0  \n",
       "...                 ...  \n",
       "93691.0             1.0  \n",
       "93695.0             2.0  \n",
       "93696.0             1.0  \n",
       "93697.0             2.0  \n",
       "93702.0             5.0  \n",
       "\n",
       "[23420 rows x 6 columns]"
      ]
     },
     "execution_count": 25,
     "metadata": {},
     "output_type": "execute_result"
    }
   ],
   "source": [
    "df"
   ]
  },
  {
   "cell_type": "code",
   "execution_count": 26,
   "metadata": {},
   "outputs": [],
   "source": [
    "#change maried people and people living with partner to 1, Otherwise 0: single.\n",
    "df[\"marital_status\"].replace({6: 1,2:0,3:0,4:0,5:0},inplace=True) "
   ]
  },
  {
   "cell_type": "code",
   "execution_count": 27,
   "metadata": {},
   "outputs": [],
   "source": [
    "#according to the stat us,a household income <$45000: low income.change low income to 0, higher than that to 1\n",
    "df['household_income'].replace({1: 0,2:0,3:0,4:0,5:0,6:0,7:0,8:1,9:1,10:1,11:1,12:1,13:1,14:1,15:1},inplace=True) "
   ]
  },
  {
   "cell_type": "code",
   "execution_count": 28,
   "metadata": {},
   "outputs": [],
   "source": [
    "#change education lower than high school graduates to 0\n",
    "df[\"education_level\"].replace({1: 0,2:0,3:1,4:1,5:1},inplace=True) "
   ]
  },
  {
   "cell_type": "code",
   "execution_count": 29,
   "metadata": {},
   "outputs": [
    {
     "data": {
      "text/html": [
       "<div>\n",
       "<style scoped>\n",
       "    .dataframe tbody tr th:only-of-type {\n",
       "        vertical-align: middle;\n",
       "    }\n",
       "\n",
       "    .dataframe tbody tr th {\n",
       "        vertical-align: top;\n",
       "    }\n",
       "\n",
       "    .dataframe thead th {\n",
       "        text-align: right;\n",
       "    }\n",
       "</style>\n",
       "<table border=\"1\" class=\"dataframe\">\n",
       "  <thead>\n",
       "    <tr style=\"text-align: right;\">\n",
       "      <th></th>\n",
       "      <th>BMI</th>\n",
       "      <th>alchohol</th>\n",
       "      <th>education_level</th>\n",
       "      <th>gender</th>\n",
       "      <th>household_income</th>\n",
       "      <th>marital_status</th>\n",
       "    </tr>\n",
       "    <tr>\n",
       "      <th>ID</th>\n",
       "      <th></th>\n",
       "      <th></th>\n",
       "      <th></th>\n",
       "      <th></th>\n",
       "      <th></th>\n",
       "      <th></th>\n",
       "    </tr>\n",
       "  </thead>\n",
       "  <tbody>\n",
       "    <tr>\n",
       "      <td>41477.0</td>\n",
       "      <td>3.402863</td>\n",
       "      <td>2.0</td>\n",
       "      <td>1.0</td>\n",
       "      <td>1.0</td>\n",
       "      <td>0.0</td>\n",
       "      <td>1.0</td>\n",
       "    </tr>\n",
       "    <tr>\n",
       "      <td>41479.0</td>\n",
       "      <td>3.316365</td>\n",
       "      <td>1.0</td>\n",
       "      <td>0.0</td>\n",
       "      <td>1.0</td>\n",
       "      <td>1.0</td>\n",
       "      <td>1.0</td>\n",
       "    </tr>\n",
       "    <tr>\n",
       "      <td>41481.0</td>\n",
       "      <td>3.150169</td>\n",
       "      <td>1.0</td>\n",
       "      <td>1.0</td>\n",
       "      <td>1.0</td>\n",
       "      <td>0.0</td>\n",
       "      <td>0.0</td>\n",
       "    </tr>\n",
       "    <tr>\n",
       "      <td>41482.0</td>\n",
       "      <td>3.515716</td>\n",
       "      <td>1.0</td>\n",
       "      <td>1.0</td>\n",
       "      <td>1.0</td>\n",
       "      <td>1.0</td>\n",
       "      <td>0.0</td>\n",
       "    </tr>\n",
       "    <tr>\n",
       "      <td>41483.0</td>\n",
       "      <td>3.785552</td>\n",
       "      <td>2.0</td>\n",
       "      <td>1.0</td>\n",
       "      <td>1.0</td>\n",
       "      <td>0.0</td>\n",
       "      <td>1.0</td>\n",
       "    </tr>\n",
       "  </tbody>\n",
       "</table>\n",
       "</div>"
      ],
      "text/plain": [
       "              BMI  alchohol  education_level  gender  household_income  \\\n",
       "ID                                                                       \n",
       "41477.0  3.402863       2.0              1.0     1.0               0.0   \n",
       "41479.0  3.316365       1.0              0.0     1.0               1.0   \n",
       "41481.0  3.150169       1.0              1.0     1.0               0.0   \n",
       "41482.0  3.515716       1.0              1.0     1.0               1.0   \n",
       "41483.0  3.785552       2.0              1.0     1.0               0.0   \n",
       "\n",
       "         marital_status  \n",
       "ID                       \n",
       "41477.0             1.0  \n",
       "41479.0             1.0  \n",
       "41481.0             0.0  \n",
       "41482.0             0.0  \n",
       "41483.0             1.0  "
      ]
     },
     "execution_count": 29,
     "metadata": {},
     "output_type": "execute_result"
    }
   ],
   "source": [
    "df.head()"
   ]
  },
  {
   "cell_type": "markdown",
   "metadata": {},
   "source": [
    "# Alchohol Consumption"
   ]
  },
  {
   "cell_type": "code",
   "execution_count": 30,
   "metadata": {},
   "outputs": [
    {
     "data": {
      "text/plain": [
       "1.0    16703\n",
       "0.0     6717\n",
       "Name: alchohol, dtype: int64"
      ]
     },
     "execution_count": 30,
     "metadata": {},
     "output_type": "execute_result"
    }
   ],
   "source": [
    "# Change 2(NHANES for No) to 0(False - boolean) for features with YES/NO answers\n",
    "df.loc[df['alchohol'] == 2,['alchohol']] = 0\n",
    "df['alchohol'].value_counts()"
   ]
  },
  {
   "cell_type": "code",
   "execution_count": 31,
   "metadata": {},
   "outputs": [
    {
     "data": {
      "text/plain": [
       "ID\n",
       "41477.0    0.0\n",
       "41479.0    1.0\n",
       "41481.0    1.0\n",
       "41482.0    1.0\n",
       "41483.0    0.0\n",
       "          ... \n",
       "93691.0    0.0\n",
       "93695.0    0.0\n",
       "93696.0    0.0\n",
       "93697.0    1.0\n",
       "93702.0    1.0\n",
       "Name: alchohol, Length: 23420, dtype: float64"
      ]
     },
     "execution_count": 31,
     "metadata": {},
     "output_type": "execute_result"
    }
   ],
   "source": [
    "df['alchohol']"
   ]
  },
  {
   "cell_type": "code",
   "execution_count": 32,
   "metadata": {},
   "outputs": [
    {
     "data": {
      "text/html": [
       "<div>\n",
       "<style scoped>\n",
       "    .dataframe tbody tr th:only-of-type {\n",
       "        vertical-align: middle;\n",
       "    }\n",
       "\n",
       "    .dataframe tbody tr th {\n",
       "        vertical-align: top;\n",
       "    }\n",
       "\n",
       "    .dataframe thead th {\n",
       "        text-align: right;\n",
       "    }\n",
       "</style>\n",
       "<table border=\"1\" class=\"dataframe\">\n",
       "  <thead>\n",
       "    <tr style=\"text-align: right;\">\n",
       "      <th></th>\n",
       "      <th>BMI</th>\n",
       "      <th>alchohol</th>\n",
       "      <th>education_level</th>\n",
       "      <th>gender</th>\n",
       "      <th>household_income</th>\n",
       "      <th>marital_status</th>\n",
       "    </tr>\n",
       "    <tr>\n",
       "      <th>ID</th>\n",
       "      <th></th>\n",
       "      <th></th>\n",
       "      <th></th>\n",
       "      <th></th>\n",
       "      <th></th>\n",
       "      <th></th>\n",
       "    </tr>\n",
       "  </thead>\n",
       "  <tbody>\n",
       "    <tr>\n",
       "      <td>41477.0</td>\n",
       "      <td>3.402863</td>\n",
       "      <td>0.0</td>\n",
       "      <td>1.0</td>\n",
       "      <td>1.0</td>\n",
       "      <td>0.0</td>\n",
       "      <td>1.0</td>\n",
       "    </tr>\n",
       "    <tr>\n",
       "      <td>41479.0</td>\n",
       "      <td>3.316365</td>\n",
       "      <td>1.0</td>\n",
       "      <td>0.0</td>\n",
       "      <td>1.0</td>\n",
       "      <td>1.0</td>\n",
       "      <td>1.0</td>\n",
       "    </tr>\n",
       "    <tr>\n",
       "      <td>41481.0</td>\n",
       "      <td>3.150169</td>\n",
       "      <td>1.0</td>\n",
       "      <td>1.0</td>\n",
       "      <td>1.0</td>\n",
       "      <td>0.0</td>\n",
       "      <td>0.0</td>\n",
       "    </tr>\n",
       "    <tr>\n",
       "      <td>41482.0</td>\n",
       "      <td>3.515716</td>\n",
       "      <td>1.0</td>\n",
       "      <td>1.0</td>\n",
       "      <td>1.0</td>\n",
       "      <td>1.0</td>\n",
       "      <td>0.0</td>\n",
       "    </tr>\n",
       "    <tr>\n",
       "      <td>41483.0</td>\n",
       "      <td>3.785552</td>\n",
       "      <td>0.0</td>\n",
       "      <td>1.0</td>\n",
       "      <td>1.0</td>\n",
       "      <td>0.0</td>\n",
       "      <td>1.0</td>\n",
       "    </tr>\n",
       "  </tbody>\n",
       "</table>\n",
       "</div>"
      ],
      "text/plain": [
       "              BMI  alchohol  education_level  gender  household_income  \\\n",
       "ID                                                                       \n",
       "41477.0  3.402863       0.0              1.0     1.0               0.0   \n",
       "41479.0  3.316365       1.0              0.0     1.0               1.0   \n",
       "41481.0  3.150169       1.0              1.0     1.0               0.0   \n",
       "41482.0  3.515716       1.0              1.0     1.0               1.0   \n",
       "41483.0  3.785552       0.0              1.0     1.0               0.0   \n",
       "\n",
       "         marital_status  \n",
       "ID                       \n",
       "41477.0             1.0  \n",
       "41479.0             1.0  \n",
       "41481.0             0.0  \n",
       "41482.0             0.0  \n",
       "41483.0             1.0  "
      ]
     },
     "execution_count": 32,
     "metadata": {},
     "output_type": "execute_result"
    }
   ],
   "source": [
    "df.head()"
   ]
  },
  {
   "cell_type": "markdown",
   "metadata": {},
   "source": [
    "# Correlation between variables"
   ]
  },
  {
   "cell_type": "code",
   "execution_count": 33,
   "metadata": {},
   "outputs": [
    {
     "data": {
      "text/plain": [
       "<matplotlib.axes._subplots.AxesSubplot at 0x188d061b3c8>"
      ]
     },
     "execution_count": 33,
     "metadata": {},
     "output_type": "execute_result"
    },
    {
     "data": {
      "image/png": "[encoded data removed]",
      "text/plain": [
       "<Figure size 432x288 with 2 Axes>"
      ]
     },
     "metadata": {
      "needs_background": "light"
     },
     "output_type": "display_data"
    }
   ],
   "source": [
    "corr=df.corr()\n",
    "sns.heatmap(corr, \n",
    "        xticklabels=corr.columns,\n",
    "        yticklabels=corr.columns)"
   ]
  },
  {
   "cell_type": "code",
   "execution_count": 43,
   "metadata": {},
   "outputs": [],
   "source": [
    "y = df['alchohol'].values\n",
    "X = df.drop(['alchohol'],axis = 1).values\n",
    "X_names = df.drop(['alchohol'],axis = 1).columns\n",
    "X_train, X_test, y_train, y_test = train_test_split(X, y, test_size=0.2, random_state = 2)"
   ]
  },
  {
   "cell_type": "code",
   "execution_count": 44,
   "metadata": {},
   "outputs": [
    {
     "data": {
      "text/plain": [
       "LogisticRegression(C=1.0, class_weight=None, dual=False, fit_intercept=True,\n",
       "                   intercept_scaling=1, l1_ratio=None, max_iter=100,\n",
       "                   multi_class='auto', n_jobs=None, penalty='l2',\n",
       "                   random_state=None, solver='lbfgs', tol=0.0001, verbose=0,\n",
       "                   warm_start=False)"
      ]
     },
     "execution_count": 44,
     "metadata": {},
     "output_type": "execute_result"
    }
   ],
   "source": [
    "logisticRegr = LogisticRegression()\n",
    "logisticRegr.fit(X_train, y_train)"
   ]
  },
  {
   "cell_type": "code",
   "execution_count": 50,
   "metadata": {},
   "outputs": [
    {
     "name": "stdout",
     "output_type": "stream",
     "text": [
      "Accuracy of logistic regression classifier on test set: 0.71\n"
     ]
    }
   ],
   "source": [
    "y_pred = logisticRegr.predict(X_test)\n",
    "print('Accuracy of logistic regression classifier on test set: {:.2f}'.format(logisticRegr.score(X_test, y_test)))"
   ]
  },
  {
   "cell_type": "code",
   "execution_count": 47,
   "metadata": {},
   "outputs": [
    {
     "name": "stdout",
     "output_type": "stream",
     "text": [
      "[[ 122 1261]\n",
      " [  80 3221]]\n"
     ]
    }
   ],
   "source": [
    "#confusion matrix\n",
    "cm = metrics.confusion_matrix(y_test, predictions)\n",
    "print(cm)"
   ]
  },
  {
   "cell_type": "code",
   "execution_count": 51,
   "metadata": {},
   "outputs": [
    {
     "name": "stdout",
     "output_type": "stream",
     "text": [
      "              precision    recall  f1-score   support\n",
      "\n",
      "         0.0       0.60      0.09      0.15      1383\n",
      "         1.0       0.72      0.98      0.83      3301\n",
      "\n",
      "    accuracy                           0.71      4684\n",
      "   macro avg       0.66      0.53      0.49      4684\n",
      "weighted avg       0.68      0.71      0.63      4684\n",
      "\n"
     ]
    }
   ],
   "source": [
    "from sklearn.metrics import classification_report\n",
    "print(classification_report(y_test, y_pred))\n"
   ]
  },
  {
   "cell_type": "code",
   "execution_count": 53,
   "metadata": {},
   "outputs": [
    {
     "data": {
      "image/png": "[encoded data removed]",
      "text/plain": [
       "<Figure size 432x288 with 1 Axes>"
      ]
     },
     "metadata": {
      "needs_background": "light"
     },
     "output_type": "display_data"
    }
   ],
   "source": [
    "from sklearn.metrics import roc_auc_score\n",
    "from sklearn.metrics import roc_curve\n",
    "logit_roc_auc = roc_auc_score(y_test, logisticRegr.predict(X_test))\n",
    "fpr, tpr, thresholds = roc_curve(y_test, logisticRegr.predict_proba(X_test)[:,1])\n",
    "plt.figure()\n",
    "plt.plot(fpr, tpr, label='Logistic Regression (area = %0.2f)' % logit_roc_auc)\n",
    "plt.plot([0, 1], [0, 1],'r--')\n",
    "plt.xlim([0.0, 1.0])\n",
    "plt.ylim([0.0, 1.05])\n",
    "plt.xlabel('False Positive Rate')\n",
    "plt.ylabel('True Positive Rate')\n",
    "plt.title('Receiver operating characteristic')\n",
    "plt.legend(loc=\"lower right\")\n",
    "plt.savefig('Log_ROC')\n",
    "plt.show()"
   ]
  },
  {
   "cell_type": "code",
   "execution_count": null,
   "metadata": {},
   "outputs": [],
   "source": []
  },
  {
   "cell_type": "code",
   "execution_count": null,
   "metadata": {},
   "outputs": [],
   "source": []
  },
  {
   "cell_type": "code",
   "execution_count": null,
   "metadata": {},
   "outputs": [],
   "source": []
  },
  {
   "cell_type": "code",
   "execution_count": null,
   "metadata": {},
   "outputs": [],
   "source": []
  },
  {
   "cell_type": "code",
   "execution_count": null,
   "metadata": {},
   "outputs": [],
   "source": []
  },
  {
   "cell_type": "code",
   "execution_count": null,
   "metadata": {},
   "outputs": [],
   "source": []
  },
  {
   "cell_type": "code",
   "execution_count": null,
   "metadata": {},
   "outputs": [],
   "source": []
  }
 ],
 "metadata": {
  "kernelspec": {
   "display_name": "Python 3",
   "language": "python",
   "name": "python3"
  },
  "language_info": {
   "codemirror_mode": {
    "name": "ipython",
    "version": 3
   },
   "file_extension": ".py",
   "mimetype": "text/x-python",
   "name": "python",
   "nbconvert_exporter": "python",
   "pygments_lexer": "ipython3",
   "version": "3.7.4"
  }
 },
 "nbformat": 4,
 "nbformat_minor": 2
}
